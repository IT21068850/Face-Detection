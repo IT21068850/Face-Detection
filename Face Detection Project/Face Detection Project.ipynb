{
 "cells": [
  {
   "cell_type": "code",
   "execution_count": 1,
   "id": "63f3a9f0",
   "metadata": {},
   "outputs": [],
   "source": [
    "import cv2\n",
    "import numpy as np\n"
   ]
  },
  {
   "cell_type": "code",
   "execution_count": null,
   "id": "5b8011c2",
   "metadata": {},
   "outputs": [],
   "source": [
    "%%cmd\n",
    "pip install face-recognition"
   ]
  },
  {
   "cell_type": "code",
   "execution_count": 3,
   "id": "c707f2af",
   "metadata": {},
   "outputs": [
    {
     "name": "stdout",
     "output_type": "stream",
     "text": [
      "Microsoft Windows [Version 10.0.22621.2134]\n",
      "(c) Microsoft Corporation. All rights reserved.\n",
      "\n",
      "C:\\Users\\yusri>pip install cmake\n",
      "Requirement already satisfied: cmake in c:\\users\\yusri\\anacondadis\\lib\\site-packages (3.27.2)\n",
      "\n",
      "C:\\Users\\yusri>"
     ]
    }
   ],
   "source": [
    "%%cmd \n",
    "pip install cmake"
   ]
  },
  {
   "cell_type": "code",
   "execution_count": 4,
   "id": "08932c0f",
   "metadata": {},
   "outputs": [
    {
     "name": "stdout",
     "output_type": "stream",
     "text": [
      "Microsoft Windows [Version 10.0.22621.2134]\n",
      "(c) Microsoft Corporation. All rights reserved.\n",
      "\n",
      "C:\\Users\\yusri>python --version\n",
      "Python 3.10.9\n",
      "\n",
      "C:\\Users\\yusri>"
     ]
    }
   ],
   "source": [
    "%%cmd\n",
    "python --version\n"
   ]
  },
  {
   "cell_type": "code",
   "execution_count": 5,
   "id": "dbb8f75f",
   "metadata": {},
   "outputs": [
    {
     "name": "stdout",
     "output_type": "stream",
     "text": [
      "Microsoft Windows [Version 10.0.22621.2134]\n",
      "(c) Microsoft Corporation. All rights reserved.\n",
      "\n",
      "C:\\Users\\yusri>pip install \"C:\\Python dlib\\dlib-19.22.99-cp310-cp310-win_amd64.whl\"\n",
      "Processing c:\\python dlib\\dlib-19.22.99-cp310-cp310-win_amd64.whl\n",
      "dlib is already installed with the same version as the provided wheel. Use --force-reinstall to force an installation of the wheel.\n",
      "\n",
      "C:\\Users\\yusri>"
     ]
    }
   ],
   "source": [
    "%%cmd\n",
    "pip install \"C:\\Python dlib\\dlib-19.22.99-cp310-cp310-win_amd64.whl\""
   ]
  },
  {
   "cell_type": "code",
   "execution_count": 6,
   "id": "0fe6edd0",
   "metadata": {},
   "outputs": [
    {
     "name": "stdout",
     "output_type": "stream",
     "text": [
      "Microsoft Windows [Version 10.0.22621.2134]\n",
      "(c) Microsoft Corporation. All rights reserved.\n",
      "\n",
      "C:\\Users\\yusri>pip install face-recognition\n",
      "Requirement already satisfied: face-recognition in c:\\users\\yusri\\anacondadis\\lib\\site-packages (1.3.0)\n",
      "Requirement already satisfied: Click>=6.0 in c:\\users\\yusri\\anacondadis\\lib\\site-packages (from face-recognition) (8.0.4)\n",
      "Requirement already satisfied: numpy in c:\\users\\yusri\\anacondadis\\lib\\site-packages (from face-recognition) (1.23.5)\n",
      "Requirement already satisfied: Pillow in c:\\users\\yusri\\anacondadis\\lib\\site-packages (from face-recognition) (9.4.0)\n",
      "Requirement already satisfied: face-recognition-models>=0.3.0 in c:\\users\\yusri\\anacondadis\\lib\\site-packages (from face-recognition) (0.3.0)\n",
      "Requirement already satisfied: dlib>=19.7 in c:\\users\\yusri\\anacondadis\\lib\\site-packages (from face-recognition) (19.22.99)\n",
      "Requirement already satisfied: colorama in c:\\users\\yusri\\anacondadis\\lib\\site-packages (from Click>=6.0->face-recognition) (0.4.6)\n",
      "\n",
      "C:\\Users\\yusri>"
     ]
    }
   ],
   "source": [
    "%%cmd\n",
    "pip install face-recognition"
   ]
  },
  {
   "cell_type": "code",
   "execution_count": 2,
   "id": "0e82f51e",
   "metadata": {},
   "outputs": [],
   "source": [
    "import face_recognition as fr"
   ]
  },
  {
   "cell_type": "code",
   "execution_count": 3,
   "id": "fafbd4c7",
   "metadata": {},
   "outputs": [],
   "source": [
    "video_capture = cv2.VideoCapture(1) #use to interact with camera"
   ]
  },
  {
   "cell_type": "code",
   "execution_count": 4,
   "id": "c0625657",
   "metadata": {},
   "outputs": [],
   "source": [
    "image = fr.load_image_file('yusri.jpg')"
   ]
  },
  {
   "cell_type": "code",
   "execution_count": 5,
   "id": "64e31dcb",
   "metadata": {},
   "outputs": [],
   "source": [
    "image_face_encoding = fr.face_encodings(image)[0]"
   ]
  },
  {
   "cell_type": "code",
   "execution_count": 6,
   "id": "d0523998",
   "metadata": {},
   "outputs": [],
   "source": [
    "known_face_encodings = [image_face_encoding]"
   ]
  },
  {
   "cell_type": "code",
   "execution_count": 7,
   "id": "25a9d29d",
   "metadata": {},
   "outputs": [],
   "source": [
    "known_face_names = [\"Yusri Areef\"]"
   ]
  },
  {
   "cell_type": "code",
   "execution_count": null,
   "id": "f28ba45f",
   "metadata": {},
   "outputs": [],
   "source": [
    "while True:\n",
    "    \n",
    "    ret, frame = video_capture.read() #ret is a boolean value . which incdicates there was return \n",
    "    \n",
    "    rgb_frame = frame[:,:,::-1]\n",
    "    fc_locations =fr.face_locations(rgb_frame)\n",
    "    fc_encodings = fr.face_encodings(rgb_frame,fc_locations)\n",
    "    \n",
    "    for(top,right, bottom,left), face_encoding in zip(fc_locations,fc_encodings):\n",
    "        matches = fr.compare_faces(known_face_encodings, face_encoding)\n",
    "        \n",
    "        \n",
    "        name = \"Unknown\"\n",
    "        \n",
    "        fc_distances = fr.face_distance(known_face_encodings,face_encoding)\n",
    "        match_index = np.argmin(fc_distances)\n",
    "        \n",
    "        if matches[match_index]:\n",
    "            name = known_face_names[match_index]\n",
    "            \n",
    "        cv2.rectangle(frame,(left,top),(right, bottom), (0,0,255),2)\n",
    "        cv2.rectangle(frame,(left,bottom - 35),(right,bottom),(0,0,25),cv2.FILLED)\n",
    "        font = cv2.FONT_HERSHEY_SIMPLEX\n",
    "        \n",
    "        cv2.putText(frame, name, (left+6,bottom-6),font,1.0,(255,255,255),1)\n",
    "        \n",
    "    cv2.imshow('Face Detection System', frame)\n",
    "    \n",
    "    if cv2.waitKey(1) & 0xFF ==ord('q'):\n",
    "        break\n",
    "        \n",
    "video_capture.release()\n",
    "cv2.destroyAllWindows()"
   ]
  },
  {
   "cell_type": "code",
   "execution_count": null,
   "id": "65a17213",
   "metadata": {},
   "outputs": [],
   "source": []
  }
 ],
 "metadata": {
  "kernelspec": {
   "display_name": "Python 3 (ipykernel)",
   "language": "python",
   "name": "python3"
  },
  "language_info": {
   "codemirror_mode": {
    "name": "ipython",
    "version": 3
   },
   "file_extension": ".py",
   "mimetype": "text/x-python",
   "name": "python",
   "nbconvert_exporter": "python",
   "pygments_lexer": "ipython3",
   "version": "3.10.9"
  }
 },
 "nbformat": 4,
 "nbformat_minor": 5
}
